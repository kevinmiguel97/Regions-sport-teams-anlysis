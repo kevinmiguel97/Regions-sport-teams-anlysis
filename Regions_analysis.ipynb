{
 "cells": [
  {
   "cell_type": "markdown",
   "metadata": {},
   "source": [
    "## Description\n",
    "In this assignment we will read a file of metropolitan regions and associated sports teams from [assets/wikipedia_data.html](assets/wikipedia_data.html) and answer some questions about each metropolitan region. Each of these regions may have one or more teams from the \"Big 4\": NFL (football, in [assets/nfl.csv](assets/nfl.csv)), MLB (baseball, in [assets/mlb.csv](assets/mlb.csv)), NBA (basketball, in [assets/nba.csv](assets/nba.csv) or NHL (hockey, in [assets/nhl.csv](assets/nhl.csv)). It is important to keep in mind that all the analysis made is from the perspective of the metropolitan region, and that this file is the \"source of authority\" for the location of a given sports team. Thus teams which are commonly known by a different area (e.g. \"Oakland Raiders\") need to be mapped into the metropolitan region given (e.g. San Francisco Bay Area). This will require some human data understanding outside of the data we've been given\n",
    "\n",
    "For each sport we are going to answer the question: **what is the win/loss ratio's correlation with the population of the city it is in?** Win/Loss ratio refers to the number of wins over the number of wins plus the number of losses. \n",
    "\n"
   ]
  },
  {
   "cell_type": "markdown",
   "metadata": {},
   "source": [
    "### Importing and cleaning cities data from wikipedia html\n",
    "In this section we imported the cities dataframe form wikipedia html, we reduced to only 6 relevant columns, deleted the totals row, and cleaned the columns names.\n",
    "Additionally we cleaned the notes from the team columns"
   ]
  },
  {
   "cell_type": "code",
   "execution_count": 30,
   "metadata": {},
   "outputs": [
    {
     "data": {
      "text/html": [
       "<div>\n",
       "<style scoped>\n",
       "    .dataframe tbody tr th:only-of-type {\n",
       "        vertical-align: middle;\n",
       "    }\n",
       "\n",
       "    .dataframe tbody tr th {\n",
       "        vertical-align: top;\n",
       "    }\n",
       "\n",
       "    .dataframe thead th {\n",
       "        text-align: right;\n",
       "    }\n",
       "</style>\n",
       "<table border=\"1\" class=\"dataframe\">\n",
       "  <thead>\n",
       "    <tr style=\"text-align: right;\">\n",
       "      <th></th>\n",
       "      <th>metropolitan area</th>\n",
       "      <th>population</th>\n",
       "      <th>nfl</th>\n",
       "      <th>mlb</th>\n",
       "      <th>nba</th>\n",
       "      <th>nhl</th>\n",
       "    </tr>\n",
       "  </thead>\n",
       "  <tbody>\n",
       "    <tr>\n",
       "      <th>0</th>\n",
       "      <td>New York City</td>\n",
       "      <td>20153634</td>\n",
       "      <td>GiantsJets</td>\n",
       "      <td>YankeesMets</td>\n",
       "      <td>KnicksNets</td>\n",
       "      <td>RangersIslandersDevils</td>\n",
       "    </tr>\n",
       "    <tr>\n",
       "      <th>1</th>\n",
       "      <td>Los Angeles</td>\n",
       "      <td>13310447</td>\n",
       "      <td>RamsChargers</td>\n",
       "      <td>DodgersAngels</td>\n",
       "      <td>LakersClippers</td>\n",
       "      <td>KingsDucks</td>\n",
       "    </tr>\n",
       "    <tr>\n",
       "      <th>2</th>\n",
       "      <td>San Francisco Bay Area</td>\n",
       "      <td>6657982</td>\n",
       "      <td>49ersRaiders</td>\n",
       "      <td>GiantsAthletics</td>\n",
       "      <td>Warriors</td>\n",
       "      <td>Sharks</td>\n",
       "    </tr>\n",
       "    <tr>\n",
       "      <th>3</th>\n",
       "      <td>Chicago</td>\n",
       "      <td>9512999</td>\n",
       "      <td>Bears</td>\n",
       "      <td>CubsWhite Sox</td>\n",
       "      <td>Bulls</td>\n",
       "      <td>Blackhawks</td>\n",
       "    </tr>\n",
       "    <tr>\n",
       "      <th>4</th>\n",
       "      <td>Dallas–Fort Worth</td>\n",
       "      <td>7233323</td>\n",
       "      <td>Cowboys</td>\n",
       "      <td>Rangers</td>\n",
       "      <td>Mavericks</td>\n",
       "      <td>Stars</td>\n",
       "    </tr>\n",
       "  </tbody>\n",
       "</table>\n",
       "</div>"
      ],
      "text/plain": [
       "        metropolitan area population           nfl              mlb  \\\n",
       "0           New York City   20153634    GiantsJets      YankeesMets   \n",
       "1             Los Angeles   13310447  RamsChargers    DodgersAngels   \n",
       "2  San Francisco Bay Area    6657982  49ersRaiders  GiantsAthletics   \n",
       "3                 Chicago    9512999         Bears    CubsWhite Sox   \n",
       "4       Dallas–Fort Worth    7233323       Cowboys          Rangers   \n",
       "\n",
       "              nba                     nhl  \n",
       "0      KnicksNets  RangersIslandersDevils  \n",
       "1  LakersClippers              KingsDucks  \n",
       "2        Warriors                  Sharks  \n",
       "3           Bulls              Blackhawks  \n",
       "4       Mavericks                   Stars  "
      ]
     },
     "execution_count": 30,
     "metadata": {},
     "output_type": "execute_result"
    }
   ],
   "source": [
    "# Importing required libraries\n",
    "import pandas as pd\n",
    "import numpy as np\n",
    "import scipy.stats as stats\n",
    "import re\n",
    "\n",
    "# Importing cities dataset from wikipedia\n",
    "cities = pd.read_html('assets/wikipedia_data.html')[1]\n",
    "\n",
    "# Reducing rows and columns from cities dataset (removing last row 'totals', and keeping relevand columns)\n",
    "cities = cities.iloc[:-1, [0, 3, 5, 6, 7, 8]]\n",
    "\n",
    "# Cleaning column names\n",
    "cities.columns = [x.lower().strip() for x in cities.columns]\n",
    "cities.rename({'population (2016 est.)[8]': 'population'}, axis=1, inplace=True)\n",
    "\n",
    "# Cleaning notes in team columns\n",
    "leagues = cities.columns\n",
    "for league in leagues:\n",
    "    cities[league].replace('\\[.+\\]', '', regex=True, inplace=True)\n",
    "\n",
    "cities.head()"
   ]
  },
  {
   "cell_type": "markdown",
   "metadata": {},
   "source": [
    "### NHL\n",
    "In this part we are going to calculate the win/loss ratio's correlation with the population of the city it is in for the **NHL** using **2018** data."
   ]
  },
  {
   "cell_type": "code",
   "execution_count": null,
   "metadata": {},
   "outputs": [],
   "source": []
  },
  {
   "cell_type": "code",
   "execution_count": null,
   "metadata": {},
   "outputs": [],
   "source": []
  },
  {
   "cell_type": "code",
   "execution_count": null,
   "metadata": {},
   "outputs": [],
   "source": []
  }
 ],
 "metadata": {
  "kernelspec": {
   "display_name": "Python 3.8.5 ('base')",
   "language": "python",
   "name": "python3"
  },
  "language_info": {
   "codemirror_mode": {
    "name": "ipython",
    "version": 3
   },
   "file_extension": ".py",
   "mimetype": "text/x-python",
   "name": "python",
   "nbconvert_exporter": "python",
   "pygments_lexer": "ipython3",
   "version": "3.8.5"
  },
  "orig_nbformat": 4,
  "vscode": {
   "interpreter": {
    "hash": "1d351383e3a3e9844000d51d8da6adb7ecd27d1d098cfd3c624cba52e341892c"
   }
  }
 },
 "nbformat": 4,
 "nbformat_minor": 2
}
